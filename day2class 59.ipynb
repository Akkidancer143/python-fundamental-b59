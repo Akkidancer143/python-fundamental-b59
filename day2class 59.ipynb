{
 "cells": [
  {
   "cell_type": "code",
   "execution_count": 1,
   "id": "aec4c463",
   "metadata": {},
   "outputs": [
    {
     "name": "stdout",
     "output_type": "stream",
     "text": [
      "hello all welcom to python world\n"
     ]
    }
   ],
   "source": [
    "print(\"hello all welcom to python world\")"
   ]
  },
  {
   "cell_type": "code",
   "execution_count": null,
   "id": "697c0142",
   "metadata": {},
   "outputs": [],
   "source": []
  },
  {
   "cell_type": "code",
   "execution_count": null,
   "id": "d4c4c54c",
   "metadata": {},
   "outputs": [],
   "source": []
  },
  {
   "cell_type": "code",
   "execution_count": null,
   "id": "f7652436",
   "metadata": {},
   "outputs": [],
   "source": []
  },
  {
   "cell_type": "code",
   "execution_count": null,
   "id": "be0d6dee",
   "metadata": {},
   "outputs": [],
   "source": [
    "understanding the variables in python"
   ]
  },
  {
   "cell_type": "code",
   "execution_count": null,
   "id": "66f3dd25",
   "metadata": {},
   "outputs": [],
   "source": []
  },
  {
   "cell_type": "code",
   "execution_count": 5,
   "id": "656968d8",
   "metadata": {},
   "outputs": [],
   "source": [
    "x = 2\n",
    "y = 3"
   ]
  },
  {
   "cell_type": "code",
   "execution_count": 6,
   "id": "fce32bf2",
   "metadata": {},
   "outputs": [
    {
     "name": "stdout",
     "output_type": "stream",
     "text": [
      "5\n"
     ]
    }
   ],
   "source": [
    "z = x+y\n",
    "\n",
    "print(z)"
   ]
  },
  {
   "cell_type": "code",
   "execution_count": null,
   "id": "a1486045",
   "metadata": {},
   "outputs": [],
   "source": []
  },
  {
   "cell_type": "code",
   "execution_count": null,
   "id": "c5d401d6",
   "metadata": {},
   "outputs": [],
   "source": [
    "Rules for declearing the variables in python"
   ]
  },
  {
   "cell_type": "code",
   "execution_count": null,
   "id": "08fcb664",
   "metadata": {},
   "outputs": [],
   "source": [
    "Rule : 1 . no name spaces while declearing the variables"
   ]
  },
  {
   "cell_type": "code",
   "execution_count": 17,
   "id": "ab095a34",
   "metadata": {},
   "outputs": [
    {
     "ename": "SyntaxError",
     "evalue": "invalid syntax (3083492635.py, line 1)",
     "output_type": "error",
     "traceback": [
      "\u001b[1;36m  Input \u001b[1;32mIn [17]\u001b[1;36m\u001b[0m\n\u001b[1;33m    First Name = \"Akshay\"\u001b[0m\n\u001b[1;37m          ^\u001b[0m\n\u001b[1;31mSyntaxError\u001b[0m\u001b[1;31m:\u001b[0m invalid syntax\n"
     ]
    }
   ],
   "source": [
    "First Name = \"Akshay\"\n",
    "    \n",
    "print(First Name)"
   ]
  },
  {
   "cell_type": "code",
   "execution_count": 16,
   "id": "dce355b1",
   "metadata": {},
   "outputs": [
    {
     "name": "stdout",
     "output_type": "stream",
     "text": [
      "Akshay\n"
     ]
    }
   ],
   "source": [
    "firstname = \"Akshay\"\n",
    "    \n",
    "print(firstname)"
   ]
  },
  {
   "cell_type": "code",
   "execution_count": null,
   "id": "4a9430a4",
   "metadata": {},
   "outputs": [],
   "source": []
  },
  {
   "cell_type": "code",
   "execution_count": null,
   "id": "c16c5793",
   "metadata": {},
   "outputs": [],
   "source": [
    "Rule 2 : A variable name should not start with number"
   ]
  },
  {
   "cell_type": "code",
   "execution_count": 18,
   "id": "dbbf6ffb",
   "metadata": {},
   "outputs": [
    {
     "ename": "SyntaxError",
     "evalue": "invalid syntax (972098279.py, line 1)",
     "output_type": "error",
     "traceback": [
      "\u001b[1;36m  Input \u001b[1;32mIn [18]\u001b[1;36m\u001b[0m\n\u001b[1;33m    1name = 'Akshay'\u001b[0m\n\u001b[1;37m     ^\u001b[0m\n\u001b[1;31mSyntaxError\u001b[0m\u001b[1;31m:\u001b[0m invalid syntax\n"
     ]
    }
   ],
   "source": [
    "1name = 'Akshay'\n",
    "print(1name)"
   ]
  },
  {
   "cell_type": "code",
   "execution_count": null,
   "id": "cd4057b1",
   "metadata": {},
   "outputs": [],
   "source": [
    "But we can put number after the variable like this"
   ]
  },
  {
   "cell_type": "code",
   "execution_count": 19,
   "id": "037d750a",
   "metadata": {},
   "outputs": [
    {
     "name": "stdout",
     "output_type": "stream",
     "text": [
      "Akshay\n"
     ]
    }
   ],
   "source": [
    "name1 = 'Akshay'\n",
    "print(name1)"
   ]
  },
  {
   "cell_type": "code",
   "execution_count": null,
   "id": "f9738405",
   "metadata": {},
   "outputs": [],
   "source": [
    "Rule no 3 : variable should not contain any special charactors"
   ]
  },
  {
   "cell_type": "code",
   "execution_count": null,
   "id": "e5c54099",
   "metadata": {},
   "outputs": [],
   "source": [
    "like !@#$%^&&*()_<>?\":{}/.,;'[]'\""
   ]
  },
  {
   "cell_type": "code",
   "execution_count": 20,
   "id": "4aa46497",
   "metadata": {},
   "outputs": [
    {
     "ename": "SyntaxError",
     "evalue": "invalid syntax (1247452869.py, line 1)",
     "output_type": "error",
     "traceback": [
      "\u001b[1;36m  Input \u001b[1;32mIn [20]\u001b[1;36m\u001b[0m\n\u001b[1;33m    name@ ='Akshay'\u001b[0m\n\u001b[1;37m          ^\u001b[0m\n\u001b[1;31mSyntaxError\u001b[0m\u001b[1;31m:\u001b[0m invalid syntax\n"
     ]
    }
   ],
   "source": [
    "name@ ='Akshay'\n",
    "print(name@)"
   ]
  },
  {
   "cell_type": "code",
   "execution_count": null,
   "id": "865127b4",
   "metadata": {},
   "outputs": [],
   "source": [
    "for executing the cells we have to press shift+enter button..............."
   ]
  },
  {
   "cell_type": "code",
   "execution_count": null,
   "id": "61feb782",
   "metadata": {},
   "outputs": [],
   "source": []
  },
  {
   "cell_type": "code",
   "execution_count": null,
   "id": "2f777681",
   "metadata": {},
   "outputs": [],
   "source": [
    "introduction to datatypes in python }}}}}}}}}}}}"
   ]
  },
  {
   "cell_type": "code",
   "execution_count": null,
   "id": "4ec8954b",
   "metadata": {},
   "outputs": [],
   "source": [
    "1 . string  -----> str\n",
    "2 . Number  -----> integers (int)and floats (float) (decimal)\n",
    "3 . list    -----> list\n",
    "4 . tuples  -----> tuple\n",
    "5 . dictionaries ----> dict"
   ]
  },
  {
   "cell_type": "code",
   "execution_count": null,
   "id": "2ed4659a",
   "metadata": {},
   "outputs": [],
   "source": []
  },
  {
   "cell_type": "code",
   "execution_count": null,
   "id": "e62bfff5",
   "metadata": {},
   "outputs": [],
   "source": [
    "classification of datatypes in python :\n",
    "    \n",
    "\n",
    "    1. Mutable ---> which we can edit and alter ===> fixable in nature\n",
    "    2. immutable---> which we can not edit and alter ====> un fixable in nature"
   ]
  },
  {
   "cell_type": "code",
   "execution_count": null,
   "id": "e9c585b5",
   "metadata": {},
   "outputs": [],
   "source": []
  },
  {
   "cell_type": "code",
   "execution_count": null,
   "id": "c1898461",
   "metadata": {},
   "outputs": [],
   "source": [
    "introduction to string datatype :\n",
    "    \n",
    "defination : A string is series of characters decleared in quotes\n",
    "classification : it classified as immutable datatype\n",
    "how to declear the string datatype......?\n",
    "3 approches of declearing the string.\n",
    "1. single qoute\n",
    "2. double qoute\n",
    "3. triple qoute."
   ]
  },
  {
   "cell_type": "code",
   "execution_count": null,
   "id": "e83cbe76",
   "metadata": {},
   "outputs": [],
   "source": []
  },
  {
   "cell_type": "code",
   "execution_count": 22,
   "id": "65708fbb",
   "metadata": {},
   "outputs": [
    {
     "name": "stdout",
     "output_type": "stream",
     "text": [
      "akshay\n"
     ]
    }
   ],
   "source": [
    "name1 = 'akshay' # single quote\n",
    "print(name1)"
   ]
  },
  {
   "cell_type": "code",
   "execution_count": 23,
   "id": "380bc93d",
   "metadata": {},
   "outputs": [
    {
     "name": "stdout",
     "output_type": "stream",
     "text": [
      "shruti\n"
     ]
    }
   ],
   "source": [
    "name2 = \"shruti\"  # double quote\n",
    "print(name2)"
   ]
  },
  {
   "cell_type": "code",
   "execution_count": 24,
   "id": "4c30a041",
   "metadata": {},
   "outputs": [
    {
     "name": "stdout",
     "output_type": "stream",
     "text": [
      "siya\n"
     ]
    }
   ],
   "source": [
    "name3 = \"\"\"siya\"\"\" #triple qoute\n",
    "print(name3)"
   ]
  },
  {
   "cell_type": "code",
   "execution_count": null,
   "id": "9fa8db2a",
   "metadata": {},
   "outputs": [],
   "source": []
  },
  {
   "cell_type": "code",
   "execution_count": null,
   "id": "b3437aa4",
   "metadata": {},
   "outputs": [],
   "source": []
  },
  {
   "cell_type": "code",
   "execution_count": null,
   "id": "1e3ed548",
   "metadata": {},
   "outputs": [],
   "source": []
  },
  {
   "cell_type": "code",
   "execution_count": null,
   "id": "6424e4ed",
   "metadata": {},
   "outputs": [],
   "source": []
  },
  {
   "cell_type": "code",
   "execution_count": null,
   "id": "261bd4ef",
   "metadata": {},
   "outputs": [],
   "source": []
  },
  {
   "cell_type": "code",
   "execution_count": null,
   "id": "3cef879c",
   "metadata": {},
   "outputs": [],
   "source": []
  },
  {
   "cell_type": "code",
   "execution_count": null,
   "id": "c61bf83a",
   "metadata": {},
   "outputs": [],
   "source": []
  },
  {
   "cell_type": "code",
   "execution_count": null,
   "id": "c01a1b42",
   "metadata": {},
   "outputs": [],
   "source": []
  }
 ],
 "metadata": {
  "kernelspec": {
   "display_name": "Python 3 (ipykernel)",
   "language": "python",
   "name": "python3"
  },
  "language_info": {
   "codemirror_mode": {
    "name": "ipython",
    "version": 3
   },
   "file_extension": ".py",
   "mimetype": "text/x-python",
   "name": "python",
   "nbconvert_exporter": "python",
   "pygments_lexer": "ipython3",
   "version": "3.9.12"
  }
 },
 "nbformat": 4,
 "nbformat_minor": 5
}
